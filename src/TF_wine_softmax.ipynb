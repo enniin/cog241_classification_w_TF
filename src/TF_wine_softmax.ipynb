{
 "cells": [
  {
   "cell_type": "code",
   "execution_count": 1,
   "metadata": {
    "collapsed": false
   },
   "outputs": [],
   "source": [
    "## Parsing csv-data for use with TensorFlow\n",
    "import parse_csv"
   ]
  },
  {
   "cell_type": "code",
   "execution_count": 2,
   "metadata": {
    "collapsed": false
   },
   "outputs": [],
   "source": [
    "# Parse Wine-data\n",
    "\n",
    "src = \"../DATA/wine/wine.data.txt\"\n",
    "labels = ('1', '2', '3')  # note: always str list!\n",
    "\n",
    "# In wine-data y is first column, so y_last=False\n",
    "wine_data = parse_csv.ParseCsv(src, labels, y_last=False)\n",
    "\n",
    "# Get a shuffled batch with all instances, targets hot-one, normalized, and ratio of 10:\n",
    "wine_x_train, wine_y_train, wine_x_test, wine_y_test = wine_data.getBatch(None, normalize=True)\n",
    "\n",
    "### To change defaults use arguments:\n",
    "#   n_inst=num_you_want (mandatory, use None if nothing else)\n",
    "#   shuffle=False  (you should never do this, though)\n",
    "#   hotone=False\n",
    "#   normalize=True\n",
    "#   ratio=num_you_want\n",
    "\n",
    "## HOX: there should also be a validation set, getBatch needs to be rethought"
   ]
  },
  {
   "cell_type": "code",
   "execution_count": 3,
   "metadata": {
    "collapsed": false
   },
   "outputs": [],
   "source": [
    "## Testing with TF-softmax\n",
    "\n",
    "import tensorflow as tf\n",
    "import numpy as np"
   ]
  },
  {
   "cell_type": "code",
   "execution_count": 4,
   "metadata": {
    "collapsed": false
   },
   "outputs": [],
   "source": [
    "## With wine data\n",
    "#  Set up model\n",
    "\n",
    "wine_nx = len(wine_data.data[0])-1\n",
    "wine_ny = len(wine_data.labels)\n",
    "\n",
    "# input values\n",
    "x = tf.placeholder(tf.float32, [None, wine_nx])\n",
    "\n",
    "# weights and biases\n",
    "W = tf.Variable(tf.truncated_normal([wine_nx, wine_ny], stddev=0.01))\n",
    "b = tf.Variable(tf.truncated_normal([wine_ny], stddev=0.01))\n",
    "\n",
    "# model\n",
    "mmul = tf.matmul(x, W) + b\n",
    "y = tf.nn.softmax(mmul)\n",
    "\n",
    "# target\n",
    "y_ = tf.placeholder(tf.float32, [None, wine_ny])\n",
    "\n",
    "# error  --- here's a danger of division by 0 !\n",
    "cross_entropy = -tf.reduce_mean(y_ * tf.log(tf.clip_by_value(y,1e-10,1.0)))\n",
    "\n",
    "# training step with GD\n",
    "train_step = tf.train.GradientDescentOptimizer(0.01).minimize(cross_entropy)\n"
   ]
  },
  {
   "cell_type": "code",
   "execution_count": 5,
   "metadata": {
    "collapsed": false
   },
   "outputs": [],
   "source": [
    "## Init & run session\n",
    "\n",
    "init = tf.initialize_all_variables()\n",
    "sess = tf.Session()\n",
    "sess.run(init)\n",
    "\n",
    "# evaluation criteria\n",
    "correct_prediction = tf.equal(tf.argmax(y,1), tf.argmax(y_,1))\n",
    "accuracy = tf.reduce_mean(tf.cast(correct_prediction, tf.float32))"
   ]
  },
  {
   "cell_type": "code",
   "execution_count": 8,
   "metadata": {
    "collapsed": false
   },
   "outputs": [
    {
     "name": "stdout",
     "output_type": "stream",
     "text": [
      "W:  [ 1.23261452 -1.47770643  0.2330769 ]\n",
      "0 0.941176\n",
      "W:  [ 1.28244162 -1.5388037   0.24434698]\n",
      "b:  [-0.01711994  0.27079725 -0.26261213]\n",
      "1 0.941176\n",
      "W:  [ 1.33133638 -1.59885597  0.25550395]\n",
      "b:  [-0.01782992  0.27421069 -0.26531413]\n",
      "2 0.941176\n",
      "W:  [ 1.37932456 -1.65788579  0.26654622]\n",
      "b:  [-0.01850324  0.27760991 -0.2680518 ]\n",
      "3 0.941176\n",
      "W:  [ 1.42643631 -1.71592367  0.27747285]\n",
      "b:  [-0.01913877  0.28100738 -0.27082223]\n",
      "4 0.941176\n",
      "W:  [ 1.47269547 -1.77299333  0.28828347]\n",
      "b:  [-0.01973326  0.28438768 -0.27361241]\n",
      "5 0.941176\n",
      "W:  [ 1.51812696 -1.8291198   0.29897767]\n",
      "b:  [-0.02028979  0.28774902 -0.27641383]\n",
      "6 0.941176\n",
      "W:  [ 1.56275761 -1.88432968  0.30955529]\n",
      "b:  [-0.02080911  0.29108465 -0.27924123]\n",
      "7 0.941176\n",
      "W:  [ 1.60661221 -1.93864369  0.3200165 ]\n",
      "b:  [-0.02129315  0.29439172 -0.28207245]\n",
      "8 0.941176\n",
      "W:  [ 1.64971256 -1.99208868  0.33036157]\n",
      "b:  [-0.02174123  0.29766959 -0.28490368]\n",
      "9 0.941176\n",
      "W:  [ 1.69207978 -2.04468536  0.34059113]\n",
      "b:  [-0.02215351  0.30091676 -0.2877349 ]\n"
     ]
    }
   ],
   "source": [
    "# train and test\n",
    "\n",
    "for i in range(30):\n",
    "    for j in range(1000):\n",
    "        sess.run(train_step, feed_dict={x: wine_x_train, y_: wine_y_train})\n",
    "    acc = sess.run(accuracy, feed_dict={x: wine_x_test, y_: wine_y_test})\n",
    "    print(i, acc)\n",
    "    if acc >= 0.99:\n",
    "        break\n",
    "    # Uncomment to see weight & bias matrixes during training:\n",
    "    # print('W: ', W.eval(sess))\n",
    "    # print('b: ', b.eval(sess))\n"
   ]
  },
  {
   "cell_type": "code",
   "execution_count": null,
   "metadata": {
    "collapsed": true
   },
   "outputs": [],
   "source": [
    "## Note: the model might be overfitting. Separate validation and test sets needed."
   ]
  }
 ],
 "metadata": {
  "kernelspec": {
   "display_name": "Python 3",
   "language": "python",
   "name": "python3"
  },
  "language_info": {
   "codemirror_mode": {
    "name": "ipython",
    "version": 3
   },
   "file_extension": ".py",
   "mimetype": "text/x-python",
   "name": "python",
   "nbconvert_exporter": "python",
   "pygments_lexer": "ipython3",
   "version": "3.4.3"
  }
 },
 "nbformat": 4,
 "nbformat_minor": 0
}
